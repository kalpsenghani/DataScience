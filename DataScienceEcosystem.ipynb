{
  "nbformat": 4,
  "nbformat_minor": 0,
  "metadata": {
    "colab": {
      "provenance": []
    },
    "kernelspec": {
      "name": "python3",
      "display_name": "Python 3"
    },
    "language_info": {
      "name": "python"
    }
  },
  "cells": [
    {
      "cell_type": "markdown",
      "source": [
        "<h2>Data Science Tools and Ecosystem<h2>"
      ],
      "metadata": {
        "id": "UZYrRreZSb6R"
      }
    },
    {
      "cell_type": "markdown",
      "source": [
        "In this notebook, Data Science Tools and  Ecosystem are summarized"
      ],
      "metadata": {
        "id": "RCjheONLTJ1T"
      }
    },
    {
      "cell_type": "markdown",
      "source": [
        "**Objectives:**"
      ],
      "metadata": {
        "id": "e-dxkhv7cz8Z"
      }
    },
    {
      "cell_type": "markdown",
      "source": [
        "Some of the popular languages that Data Scientists use are:\n",
        "<ol>\n",
        "<li>Python</li>\n",
        "<li>R</li>\n",
        "<li>Julia</li>\n",
        "<li>SQL</li>\n",
        "</ol>"
      ],
      "metadata": {
        "id": "H54vhbZoTXi2"
      }
    },
    {
      "cell_type": "markdown",
      "source": [
        "Some of the commonly used libraries used by Data Scientists include:\n",
        "<ol>\n",
        "<li>NumPy</li>\n",
        "<li>Matplotlib</li>\n",
        "<li>Pandas</li>\n",
        "<li>SciPy</li>\n",
        "</ol>\n"
      ],
      "metadata": {
        "id": "ihAT_eL7VHex"
      }
    },
    {
      "cell_type": "markdown",
      "source": [
        "|Data Science Tools|\n",
        "--------------------\n",
        "|Hadoop            |\n",
        "|Spark             |\n",
        "|Tensor Flow       |\n",
        "|ggplot            |\n",
        "|Jupyter Notebook  |"
      ],
      "metadata": {
        "id": "uC-ovvV3XmjA"
      }
    },
    {
      "cell_type": "markdown",
      "source": [
        "<h3>Below are a few examples of evaluating arithmetic expression in Python"
      ],
      "metadata": {
        "id": "Cg5z9Kt6Z3Di"
      }
    },
    {
      "cell_type": "code",
      "source": [
        "#This is simple arithmetic expression to multiply then add integers\n",
        "(3*4)+5"
      ],
      "metadata": {
        "colab": {
          "base_uri": "https://localhost:8080/"
        },
        "id": "Oq1M64vsakyu",
        "outputId": "d00a68df-d6b8-4788-cbbf-513830e9b12d"
      },
      "execution_count": 1,
      "outputs": [
        {
          "output_type": "execute_result",
          "data": {
            "text/plain": [
              "17"
            ]
          },
          "metadata": {},
          "execution_count": 1
        }
      ]
    },
    {
      "cell_type": "code",
      "source": [
        "#This will convert 200 minutes to hours by divding by 60\n",
        "from datetime import timedelta\n",
        "print(timedelta(minutes=200)/timedelta(hours=1))"
      ],
      "metadata": {
        "colab": {
          "base_uri": "https://localhost:8080/"
        },
        "id": "LK-o1udwbNy0",
        "outputId": "1ead9bd8-02e7-4c1e-89fa-822055b9dfd0"
      },
      "execution_count": 2,
      "outputs": [
        {
          "output_type": "stream",
          "name": "stdout",
          "text": [
            "3.3333333333333335\n"
          ]
        }
      ]
    },
    {
      "cell_type": "markdown",
      "source": [
        "**Objectives:**\n",
        "<ul><li>List popular languages for Data Science</li>\n",
        "    <li>Commonly used libraries used by Data Scientists</li>\n",
        "    <li>Some Data Science Tools</li>\n",
        "    <li>Simple arithmetic operation</li>\n",
        "    <li>Conversion from minutes to hour</li>\n",
        "</ul>    "
      ],
      "metadata": {
        "id": "Jy5KWd8Sb3S4"
      }
    },
    {
      "cell_type": "markdown",
      "source": [
        "<h2>Author</h2>\n",
        "Kalp Senghani"
      ],
      "metadata": {
        "id": "eyIiEAQNhyMr"
      }
    },
    {
      "cell_type": "code",
      "source": [],
      "metadata": {
        "id": "dACh7h5eh9of"
      },
      "execution_count": null,
      "outputs": []
    }
  ]
}